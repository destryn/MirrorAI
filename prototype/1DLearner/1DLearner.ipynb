{
 "cells": [
  {
   "cell_type": "markdown",
   "metadata": {},
   "source": [
    "# 1D Mirror Detection Learner\n",
    "**Goal**: correctly identify whether an abstract mirror object is within the vision range"
   ]
  },
  {
   "cell_type": "code",
   "execution_count": 1,
   "metadata": {
    "collapsed": true
   },
   "outputs": [],
   "source": [
    "import tensorflow as tf\n",
    "import numpy"
   ]
  },
  {
   "cell_type": "markdown",
   "metadata": {},
   "source": [
    "## Define constants"
   ]
  },
  {
   "cell_type": "code",
   "execution_count": 16,
   "metadata": {
    "collapsed": true
   },
   "outputs": [],
   "source": [
    "image_width = 2\n",
    "image_height = 2\n",
    "vision_range = image_width * image_height\n",
    "category_count = 10\n",
    "label_type_count = 2  # mirror or not\n",
    "\n",
    "segment_count = {\n",
    "    \"training\": 8000,\n",
    "    \"test\": 1300,\n",
    "    \"validation\": 700\n",
    "    }\n",
    "sample_count = {\n",
    "    \"training\": segment_count['training'] * vision_range,\n",
    "    \"test\": segment_count['test'] * vision_range,\n",
    "    \"validation\": segment_count['validation'] * vision_range\n",
    "    }\n",
    "learning_rate = 0.5"
   ]
  },
  {
   "cell_type": "markdown",
   "metadata": {},
   "source": [
    "## Auxiliary functions"
   ]
  },
  {
   "cell_type": "markdown",
   "metadata": {},
   "source": [
    "### Show result"
   ]
  },
  {
   "cell_type": "code",
   "execution_count": 3,
   "metadata": {
    "collapsed": true
   },
   "outputs": [],
   "source": [
    "def show_result(x):\n",
    "    \"\"\"Print the result\"\"\"\n",
    "    print(\"{:.0f}%\".format(x * 100))"
   ]
  },
  {
   "cell_type": "markdown",
   "metadata": {},
   "source": [
    "### Automaticaly generate data sets"
   ]
  },
  {
   "cell_type": "code",
   "execution_count": 12,
   "metadata": {
    "collapsed": false
   },
   "outputs": [],
   "source": [
    "def mirror_label(x):\n",
    "    if x is True:\n",
    "        return [1, 0]\n",
    "    else:\n",
    "        return [0, 1]\n",
    "    \n",
    "def random_mirror(vision_range, category_count):\n",
    "    \"\"\"Return a n-array with either a randomly placed mirror\n",
    "        or no mirror at all.\n",
    "    \n",
    "    Args:\n",
    "        vision_range (int): how many objects to be seen at a time\n",
    "        category_count (int): total number of different objects\n",
    "            including the mirror type\n",
    "    Return:\n",
    "        2-tuple:\n",
    "             [0]: an array of size same as the \"vision_range\".\n",
    "             [1]: 1 one-hot 2-array [1, 0] (has mirror) or [0, 1] (no mirror).\n",
    "    \"\"\"\n",
    "\n",
    "    p1 = numpy.random.randint(1, high=category_count, size=vision_range-1)\n",
    "    p2 = numpy.random.randint(0, category_count, 1)\n",
    "    data = numpy.random.permutation(numpy.concatenate((p1, p2)))\n",
    "    return (data, mirror_label(0 in data))\n",
    "\n"
   ]
  },
  {
   "cell_type": "code",
   "execution_count": 6,
   "metadata": {
    "collapsed": true
   },
   "outputs": [],
   "source": [
    "def mirror_data(n, vision_range, category_count):\n",
    "    \"\"\"Return a n x size matrix\n",
    "    Args:\n",
    "        n (int): number of data points\n",
    "        vision_range (int): number of objects to be seen at a time\n",
    "        category_count (int): total number of different object categories\n",
    "            including the mirror\n",
    "    Returns:\n",
    "        A dictionary:\n",
    "            data: (n, v)-sized 2D numpy array where v is the vision_range\n",
    "            labels: (n,)-sized 1D numpy array (each element is either 1 or 0)\n",
    "    \"\"\"\n",
    "    raw = [random_mirror(vision_range, category_count) for i in range(n)]\n",
    "    return {\n",
    "        \"data\": numpy.array([x[0] for x in raw]),\n",
    "        \"labels\": numpy.array([x[1] for x in raw])\n",
    "    }"
   ]
  },
  {
   "cell_type": "code",
   "execution_count": 18,
   "metadata": {
    "collapsed": false
   },
   "outputs": [],
   "source": [
    "def mirror_data_with_overlap(n, vision_range, category_count):\n",
    "    \"\"\"Return a n x size matrix\n",
    "    Args:\n",
    "        n (int): number of non-overlapping segments\n",
    "        vision_range (int): number of objects to be seen at a time\n",
    "        category_count (int): total number of different object categories\n",
    "            including the mirror\n",
    "    Returns:\n",
    "        A dictionary:\n",
    "            data: (n, v)-sized 2D numpy array where v is the vision_range\n",
    "            labels: (n,)-sized 1D numpy array (each element is either 1 or 0)\n",
    "    \"\"\"\n",
    "    \n",
    "    raw = [random_mirror(vision_range, category_count) for i in range(n)]\n",
    "    merged = numpy.concatenate([x[0] for x in raw])\n",
    "    data_set = [merged[i:i+vision_range] for i in range(len(merged)-vision_range)]\n",
    "    labels = [mirror_label(0 in x) for x in data_set]\n",
    "    return {\n",
    "        \"data\": numpy.array(data_set),\n",
    "        \"labels\": labels\n",
    "    }\n",
    "    "
   ]
  },
  {
   "cell_type": "markdown",
   "metadata": {},
   "source": [
    "## Dataset"
   ]
  },
  {
   "cell_type": "code",
   "execution_count": 7,
   "metadata": {
    "collapsed": false
   },
   "outputs": [],
   "source": [
    "# dataset = {\n",
    "#     \"training\": mirror_data(sample_count['training'], vision_range, category_count),\n",
    "#     \"test\": mirror_data(sample_count['test'], vision_range, category_count),\n",
    "#     \"validation\": mirror_data(sample_count['validation'], vision_range, category_count)\n",
    "# }"
   ]
  },
  {
   "cell_type": "code",
   "execution_count": 19,
   "metadata": {
    "collapsed": true
   },
   "outputs": [],
   "source": [
    "dataset = {\n",
    "    \"training\": mirror_data_with_overlap(segment_count['training'], vision_range, category_count),\n",
    "    \"test\": mirror_data_with_overlap(segment_count['test'], vision_range, category_count),\n",
    "    \"validation\": mirror_data_with_overlap(segment_count['validation'], vision_range, category_count)\n",
    "}"
   ]
  },
  {
   "cell_type": "code",
   "execution_count": 20,
   "metadata": {
    "collapsed": false
   },
   "outputs": [
    {
     "data": {
      "text/plain": [
       "array([[5, 9, 8, 8],\n",
       "       [9, 8, 8, 7],\n",
       "       [8, 8, 7, 9],\n",
       "       [8, 7, 9, 7],\n",
       "       [7, 9, 7, 5],\n",
       "       [9, 7, 5, 1],\n",
       "       [7, 5, 1, 1],\n",
       "       [5, 1, 1, 0],\n",
       "       [1, 1, 0, 8],\n",
       "       [1, 0, 8, 1],\n",
       "       [0, 8, 1, 2],\n",
       "       [8, 1, 2, 7],\n",
       "       [1, 2, 7, 3],\n",
       "       [2, 7, 3, 2],\n",
       "       [7, 3, 2, 7]])"
      ]
     },
     "execution_count": 20,
     "metadata": {},
     "output_type": "execute_result"
    }
   ],
   "source": [
    "dataset['test']['data'][0:15, :]"
   ]
  },
  {
   "cell_type": "code",
   "execution_count": 21,
   "metadata": {
    "collapsed": false
   },
   "outputs": [
    {
     "data": {
      "text/plain": [
       "[[0, 1],\n",
       " [0, 1],\n",
       " [0, 1],\n",
       " [0, 1],\n",
       " [0, 1],\n",
       " [0, 1],\n",
       " [0, 1],\n",
       " [1, 0],\n",
       " [1, 0],\n",
       " [1, 0],\n",
       " [1, 0],\n",
       " [0, 1],\n",
       " [0, 1],\n",
       " [0, 1],\n",
       " [0, 1]]"
      ]
     },
     "execution_count": 21,
     "metadata": {},
     "output_type": "execute_result"
    }
   ],
   "source": [
    "dataset['test']['labels'][0:15]"
   ]
  },
  {
   "cell_type": "markdown",
   "metadata": {
    "collapsed": false
   },
   "source": [
    "# Memory allocation"
   ]
  },
  {
   "cell_type": "code",
   "execution_count": null,
   "metadata": {
    "collapsed": true
   },
   "outputs": [],
   "source": []
  },
  {
   "cell_type": "code",
   "execution_count": 22,
   "metadata": {
    "collapsed": false
   },
   "outputs": [],
   "source": [
    "x = tf.placeholder(tf.float32, [None, vision_range])"
   ]
  },
  {
   "cell_type": "code",
   "execution_count": 33,
   "metadata": {
    "collapsed": false
   },
   "outputs": [],
   "source": [
    "W = tf.Variable(tf.zeros([vision_range, label_type_count]))"
   ]
  },
  {
   "cell_type": "code",
   "execution_count": 34,
   "metadata": {
    "collapsed": true
   },
   "outputs": [],
   "source": [
    "b = tf.Variable(tf.zeros([label_type_count]))"
   ]
  },
  {
   "cell_type": "code",
   "execution_count": 35,
   "metadata": {
    "collapsed": false
   },
   "outputs": [],
   "source": [
    "y = tf.nn.softmax(tf.matmul(x, W) + b)"
   ]
  },
  {
   "cell_type": "code",
   "execution_count": 36,
   "metadata": {
    "collapsed": false
   },
   "outputs": [],
   "source": [
    "y_ = tf.placeholder(tf.float32, [None, label_type_count])"
   ]
  },
  {
   "cell_type": "code",
   "execution_count": 37,
   "metadata": {
    "collapsed": true
   },
   "outputs": [],
   "source": [
    "cross_entropy = tf.reduce_mean(\n",
    "    tf.nn.softmax_cross_entropy_with_logits(labels=y_, logits=y)\n",
    ")"
   ]
  },
  {
   "cell_type": "code",
   "execution_count": 38,
   "metadata": {
    "collapsed": true
   },
   "outputs": [],
   "source": [
    "train_step = tf.train.GradientDescentOptimizer(learning_rate).minimize(cross_entropy)"
   ]
  },
  {
   "cell_type": "code",
   "execution_count": 39,
   "metadata": {
    "collapsed": true
   },
   "outputs": [],
   "source": [
    "# create a session\n",
    "session = tf.InteractiveSession()"
   ]
  },
  {
   "cell_type": "code",
   "execution_count": 40,
   "metadata": {
    "collapsed": true
   },
   "outputs": [],
   "source": [
    "tf.global_variables_initializer().run()"
   ]
  },
  {
   "cell_type": "markdown",
   "metadata": {},
   "source": [
    "# I. Regular Neural Net"
   ]
  },
  {
   "cell_type": "markdown",
   "metadata": {},
   "source": [
    "## Training\n",
    "\n"
   ]
  },
  {
   "cell_type": "code",
   "execution_count": 41,
   "metadata": {
    "collapsed": false
   },
   "outputs": [],
   "source": [
    "session.run(train_step, feed_dict={x: dataset['training']['data'], y_: dataset['training']['labels']})"
   ]
  },
  {
   "cell_type": "code",
   "execution_count": 42,
   "metadata": {
    "collapsed": true
   },
   "outputs": [],
   "source": [
    "correct_prediction = tf.equal(tf.argmax(y, 1), tf.argmax(y_, 1))"
   ]
  },
  {
   "cell_type": "code",
   "execution_count": 43,
   "metadata": {
    "collapsed": true
   },
   "outputs": [],
   "source": [
    "accuracy = tf.reduce_mean(tf.cast(correct_prediction, tf.float32))"
   ]
  },
  {
   "cell_type": "markdown",
   "metadata": {},
   "source": [
    "## Test"
   ]
  },
  {
   "cell_type": "code",
   "execution_count": 44,
   "metadata": {
    "collapsed": false
   },
   "outputs": [],
   "source": [
    "test_result = session.run(accuracy, feed_dict={x: dataset['test']['data'], y_: dataset['test']['labels']})"
   ]
  },
  {
   "cell_type": "code",
   "execution_count": 45,
   "metadata": {
    "collapsed": false
   },
   "outputs": [
    {
     "name": "stdout",
     "output_type": "stream",
     "text": [
      "92%\n"
     ]
    }
   ],
   "source": [
    "show_result(test_result)"
   ]
  },
  {
   "cell_type": "markdown",
   "metadata": {},
   "source": [
    "## Validation"
   ]
  },
  {
   "cell_type": "code",
   "execution_count": 46,
   "metadata": {
    "collapsed": true
   },
   "outputs": [],
   "source": [
    "exam_result = session.run(accuracy, feed_dict={x: dataset['validation']['data'], y_: dataset['validation']['labels']})"
   ]
  },
  {
   "cell_type": "code",
   "execution_count": 47,
   "metadata": {
    "collapsed": false
   },
   "outputs": [
    {
     "name": "stdout",
     "output_type": "stream",
     "text": [
      "90%\n"
     ]
    }
   ],
   "source": [
    "show_result(exam_result)"
   ]
  },
  {
   "cell_type": "code",
   "execution_count": null,
   "metadata": {
    "collapsed": true
   },
   "outputs": [],
   "source": []
  }
 ],
 "metadata": {
  "kernelspec": {
   "display_name": "Python 3",
   "language": "python",
   "name": "python3"
  },
  "language_info": {
   "codemirror_mode": {
    "name": "ipython",
    "version": 3
   },
   "file_extension": ".py",
   "mimetype": "text/x-python",
   "name": "python",
   "nbconvert_exporter": "python",
   "pygments_lexer": "ipython3",
   "version": "3.5.2"
  }
 },
 "nbformat": 4,
 "nbformat_minor": 0
}
