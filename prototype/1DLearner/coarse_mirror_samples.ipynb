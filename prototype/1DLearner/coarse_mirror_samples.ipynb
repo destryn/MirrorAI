{
 "cells": [
  {
   "cell_type": "code",
   "execution_count": 1,
   "metadata": {
    "collapsed": true
   },
   "outputs": [],
   "source": [
    "import numpy"
   ]
  },
  {
   "cell_type": "code",
   "execution_count": 82,
   "metadata": {
    "collapsed": true
   },
   "outputs": [],
   "source": [
    "def mirror_label(isTrue):\n",
    "    if isTrue:\n",
    "        return [1, 0]\n",
    "    else:\n",
    "        return [0, 1]"
   ]
  },
  {
   "cell_type": "code",
   "execution_count": 99,
   "metadata": {
    "collapsed": true
   },
   "outputs": [],
   "source": [
    "def one_row(n, low, high):\n",
    "    \"\"\"Return one row of numbers\n",
    "    \n",
    "    Args:\n",
    "        n (int): length\n",
    "        low (int): lowest possible number\n",
    "        high (int): highest possible number\n",
    "    Returns:\n",
    "        1D numpy array\n",
    "    \"\"\"\n",
    "    return numpy.random.randint(low, high=high+1, size=n)"
   ]
  },
  {
   "cell_type": "code",
   "execution_count": 3,
   "metadata": {
    "collapsed": false
   },
   "outputs": [],
   "source": [
    "def half_mirror(m, n, low, high):\n",
    "    \"\"\"Return a matrix\n",
    "    \n",
    "    Args:\n",
    "        m (int): number of rows\n",
    "        n (int): number of columns\n",
    "        low (int): lowest possible number\n",
    "        high (int): highest possible number\n",
    "    Returns:\n",
    "        2D numpy array\n",
    "    \"\"\"\n",
    "    return numpy.vstack([one_row(n, low, high) for i in range(m)])\n",
    "    "
   ]
  },
  {
   "cell_type": "code",
   "execution_count": 4,
   "metadata": {
    "collapsed": true
   },
   "outputs": [],
   "source": [
    "def flatten(a):\n",
    "    \"\"\"Flatten a 2D array\"\"\"\n",
    "    size = numpy.prod(numpy.shape(a))\n",
    "    return numpy.reshape(a, (size,))"
   ]
  },
  {
   "cell_type": "code",
   "execution_count": 89,
   "metadata": {
    "collapsed": false
   },
   "outputs": [],
   "source": [
    "def full_mirror(height, width, low, high):\n",
    "    \"\"\"Return a matrix\n",
    "    Returns a symmetric image with 50% probability\n",
    "    \n",
    "    Args:\n",
    "        height (int): image height\n",
    "        width (int): image width\n",
    "        low (int): lowest possible number\n",
    "        high (int): highest possible number\n",
    "    Returns:\n",
    "        2D numpy array\n",
    "    \"\"\"\n",
    "    m = (height - 1) // 2\n",
    "    coin = numpy.random.random()\n",
    "    if coin > 0.5:\n",
    "        return  numpy.vstack([\n",
    "                    half_mirror(m, width, low, high),\n",
    "                    numpy.zeros(width),\n",
    "                    half_mirror(m, width, low, high)\n",
    "                ])\n",
    "    else:\n",
    "        half = half_mirror(m, width, low, high)\n",
    "        return numpy.vstack([\n",
    "                half,\n",
    "                numpy.zeros(width),\n",
    "                half[::-1, :]\n",
    "            ])"
   ]
  },
  {
   "cell_type": "code",
   "execution_count": 90,
   "metadata": {
    "collapsed": false
   },
   "outputs": [],
   "source": [
    "def label_full_mirror(a):\n",
    "    m, n = numpy.shape(a)\n",
    "    top = a[0:(m-1)//2, :]\n",
    "    bottom = a[(m+1)//2:, :]\n",
    "    isMirror = bool(numpy.amax(numpy.absolute(top - bottom[-1::-1])) < 1.0e-5)\n",
    "    label = mirror_label(isMirror)\n",
    "    return (a.reshape((m*n,)), label)"
   ]
  },
  {
   "cell_type": "code",
   "execution_count": 93,
   "metadata": {
    "collapsed": false
   },
   "outputs": [],
   "source": [
    "def reflection_samples(N, height, width, low, high):\n",
    "    \"\"\"Generate reflection samples\n",
    "    Args:\n",
    "        N (int): total number of samples\n",
    "        height (int): height of each image\n",
    "        width (int): width of each image\n",
    "        low (int): lowest number\n",
    "        high (int): highest number\n",
    "    Returns:\n",
    "        a list of pairs, i.e., flattened image and its label\n",
    "    \"\"\"\n",
    "    raw = [label_full_mirror(full_mirror(height, width, low, high))\n",
    "            for i in range(N)]\n",
    "    return {\n",
    "        \"data\": numpy.array([x[0] for x in raw]),\n",
    "        \"labels\": numpy.array([x[1] for x in raw]),\n",
    "    }"
   ]
  },
  {
   "cell_type": "code",
   "execution_count": 102,
   "metadata": {
    "collapsed": false
   },
   "outputs": [
    {
     "data": {
      "text/plain": [
       "{'data': array([[ 1.,  1.,  0.,  0.,  1.,  0.,  0.,  0.,  0.,  0.,  1.,  0.,  1.,\n",
       "          1.,  0.],\n",
       "        [ 1.,  1.,  1.,  0.,  0.,  1.,  0.,  0.,  0.,  0.,  0.,  1.,  1.,\n",
       "          1.,  1.],\n",
       "        [ 1.,  0.,  1.,  1.,  1.,  1.,  0.,  0.,  0.,  1.,  1.,  1.,  1.,\n",
       "          0.,  1.],\n",
       "        [ 1.,  1.,  1.,  1.,  1.,  1.,  0.,  0.,  0.,  1.,  1.,  1.,  0.,\n",
       "          1.,  1.],\n",
       "        [ 1.,  0.,  0.,  0.,  1.,  0.,  0.,  0.,  0.,  0.,  1.,  0.,  1.,\n",
       "          0.,  0.],\n",
       "        [ 0.,  1.,  1.,  1.,  1.,  1.,  0.,  0.,  0.,  1.,  1.,  1.,  0.,\n",
       "          1.,  1.],\n",
       "        [ 1.,  0.,  0.,  0.,  1.,  1.,  0.,  0.,  0.,  0.,  1.,  1.,  1.,\n",
       "          0.,  1.],\n",
       "        [ 0.,  0.,  1.,  1.,  0.,  0.,  0.,  0.,  0.,  1.,  0.,  0.,  0.,\n",
       "          0.,  1.],\n",
       "        [ 0.,  0.,  0.,  1.,  1.,  0.,  0.,  0.,  0.,  0.,  1.,  0.,  1.,\n",
       "          1.,  1.],\n",
       "        [ 1.,  1.,  1.,  0.,  1.,  0.,  0.,  0.,  0.,  1.,  0.,  1.,  1.,\n",
       "          1.,  1.]]), 'labels': array([[1, 0],\n",
       "        [1, 0],\n",
       "        [1, 0],\n",
       "        [0, 1],\n",
       "        [1, 0],\n",
       "        [1, 0],\n",
       "        [0, 1],\n",
       "        [1, 0],\n",
       "        [0, 1],\n",
       "        [0, 1]])}"
      ]
     },
     "execution_count": 102,
     "metadata": {},
     "output_type": "execute_result"
    }
   ],
   "source": [
    "a = reflection_samples(10, 5, 3, 0, 1)\n",
    "a"
   ]
  },
  {
   "cell_type": "code",
   "execution_count": 75,
   "metadata": {
    "collapsed": false
   },
   "outputs": [
    {
     "data": {
      "text/plain": [
       "[1, 0]"
      ]
     },
     "execution_count": 75,
     "metadata": {},
     "output_type": "execute_result"
    }
   ],
   "source": [
    "mirror_label(True)"
   ]
  },
  {
   "cell_type": "code",
   "execution_count": 52,
   "metadata": {
    "collapsed": false
   },
   "outputs": [
    {
     "data": {
      "text/plain": [
       "[0, 1]"
      ]
     },
     "execution_count": 52,
     "metadata": {},
     "output_type": "execute_result"
    }
   ],
   "source": [
    "mirror_label(False)"
   ]
  },
  {
   "cell_type": "code",
   "execution_count": 81,
   "metadata": {
    "collapsed": false
   },
   "outputs": [
    {
     "name": "stdout",
     "output_type": "stream",
     "text": [
      "False\n"
     ]
    }
   ],
   "source": [
    "if numpy.amax([1,0]) < 0:\n",
    "    print(True)\n",
    "else:\n",
    "    print(False)"
   ]
  },
  {
   "cell_type": "code",
   "execution_count": 98,
   "metadata": {
    "collapsed": false
   },
   "outputs": [
    {
     "data": {
      "text/plain": [
       "0"
      ]
     },
     "execution_count": 98,
     "metadata": {},
     "output_type": "execute_result"
    }
   ],
   "source": [
    "numpy.random.randint(0, 2)"
   ]
  },
  {
   "cell_type": "code",
   "execution_count": null,
   "metadata": {
    "collapsed": true
   },
   "outputs": [],
   "source": []
  },
  {
   "cell_type": "code",
   "execution_count": null,
   "metadata": {
    "collapsed": true
   },
   "outputs": [],
   "source": []
  }
 ],
 "metadata": {
  "kernelspec": {
   "display_name": "Python 3",
   "language": "python",
   "name": "python3"
  },
  "language_info": {
   "codemirror_mode": {
    "name": "ipython",
    "version": 3
   },
   "file_extension": ".py",
   "mimetype": "text/x-python",
   "name": "python",
   "nbconvert_exporter": "python",
   "pygments_lexer": "ipython3",
   "version": "3.5.2"
  }
 },
 "nbformat": 4,
 "nbformat_minor": 0
}
