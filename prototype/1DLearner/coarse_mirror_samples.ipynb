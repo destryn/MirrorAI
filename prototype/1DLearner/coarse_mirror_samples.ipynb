{
 "cells": [
  {
   "cell_type": "code",
   "execution_count": 1,
   "metadata": {
    "collapsed": true
   },
   "outputs": [],
   "source": [
    "import numpy"
   ]
  },
  {
   "cell_type": "code",
   "execution_count": 2,
   "metadata": {
    "collapsed": true
   },
   "outputs": [],
   "source": [
    "def one_row(n, low, high):\n",
    "    \"\"\"Return one row of numbers\n",
    "    \n",
    "    Args:\n",
    "        n (int): length\n",
    "        low (int): lowest possible number\n",
    "        high (int): highest possible number\n",
    "    Returns:\n",
    "        1D numpy array\n",
    "    \"\"\"\n",
    "    return numpy.random.randint(low, high=high, size=n)"
   ]
  },
  {
   "cell_type": "code",
   "execution_count": 3,
   "metadata": {
    "collapsed": false
   },
   "outputs": [],
   "source": [
    "def half_mirror(m, n, low, high):\n",
    "    \"\"\"Return a matrix\n",
    "    \n",
    "    Args:\n",
    "        m (int): number of rows\n",
    "        n (int): number of columns\n",
    "        low (int): lowest possible number\n",
    "        high (int): highest possible number\n",
    "    Returns:\n",
    "        2D numpy array\n",
    "    \"\"\"\n",
    "    return numpy.vstack([one_row(n, low, high) for i in range(m)])\n",
    "    "
   ]
  },
  {
   "cell_type": "code",
   "execution_count": 12,
   "metadata": {
    "collapsed": true
   },
   "outputs": [],
   "source": [
    "def flatten(a):\n",
    "    \"\"\"Flatten a 2D array\"\"\"\n",
    "    size = numpy.prod(numpy.shape(a))\n",
    "    return numpy.reshape(a, (size,))"
   ]
  },
  {
   "cell_type": "code",
   "execution_count": 14,
   "metadata": {
    "collapsed": false
   },
   "outputs": [],
   "source": [
    "def full_mirror(m, n, low, high):\n",
    "    \"\"\"Return a matrix\n",
    "    Returns a symmetric image with 50% probability\n",
    "    \n",
    "    Args:\n",
    "        m (int): half mirror size (excluding the middle row)\n",
    "        n (int): number of columns\n",
    "        low (int): lowest possible number\n",
    "        high (int): highest possible number\n",
    "    Returns:\n",
    "        2D numpy array\n",
    "    \"\"\"\n",
    "    coin = numpy.random.random()\n",
    "    if coin > 0.5:\n",
    "        return  numpy.vstack([\n",
    "                    half_mirror(m, n, low, high),\n",
    "                    numpy.zeros(n),\n",
    "                    half_mirror(m, n, low, high)\n",
    "                ]).reshape(())\n",
    "    else:\n",
    "        half = half_mirror(m, n, low, high)\n",
    "        return numpy.vstack([\n",
    "                half,\n",
    "                numpy.zeros(n),\n",
    "                half[::-1, :]\n",
    "            ])"
   ]
  },
  {
   "cell_type": "code",
   "execution_count": 38,
   "metadata": {
    "collapsed": true
   },
   "outputs": [],
   "source": [
    "def label_full_mirror(a):\n",
    "    m, n = numpy.shape(a)\n",
    "    top = a[0:(m-1)//2, :]\n",
    "    bottom = a[(m+1)//2:, :]\n",
    "    print(top)\n",
    "    return numpy.amax(\n",
    "            numpy.absolute(top - bottom[-1::-1])\n",
    "        ) < 1.0e-5"
   ]
  },
  {
   "cell_type": "code",
   "execution_count": 26,
   "metadata": {
    "collapsed": false
   },
   "outputs": [
    {
     "data": {
      "text/plain": [
       "array([[ 5.,  0.,  2.,  3.,  1.],\n",
       "       [ 7.,  5.,  3.,  7.,  7.],\n",
       "       [ 7.,  0.,  5.,  5.,  1.],\n",
       "       [ 4.,  8.,  7.,  6.,  3.],\n",
       "       [ 5.,  8.,  4.,  4.,  6.],\n",
       "       [ 0.,  0.,  0.,  0.,  0.],\n",
       "       [ 5.,  8.,  4.,  4.,  6.],\n",
       "       [ 4.,  8.,  7.,  6.,  3.],\n",
       "       [ 7.,  0.,  5.,  5.,  1.],\n",
       "       [ 7.,  5.,  3.,  7.,  7.],\n",
       "       [ 5.,  0.,  2.,  3.,  1.]])"
      ]
     },
     "execution_count": 26,
     "metadata": {},
     "output_type": "execute_result"
    }
   ],
   "source": [
    "a = full_mirror(5, 5, 0, 9)\n",
    "a"
   ]
  },
  {
   "cell_type": "code",
   "execution_count": 24,
   "metadata": {
    "collapsed": false
   },
   "outputs": [
    {
     "data": {
      "text/plain": [
       "(11, 5)"
      ]
     },
     "execution_count": 24,
     "metadata": {},
     "output_type": "execute_result"
    }
   ],
   "source": [
    "a.shape"
   ]
  },
  {
   "cell_type": "code",
   "execution_count": 37,
   "metadata": {
    "collapsed": false
   },
   "outputs": [
    {
     "data": {
      "text/plain": [
       "False"
      ]
     },
     "execution_count": 37,
     "metadata": {},
     "output_type": "execute_result"
    }
   ],
   "source": [
    "label_full_mirror(a)"
   ]
  },
  {
   "cell_type": "code",
   "execution_count": 29,
   "metadata": {
    "collapsed": false
   },
   "outputs": [
    {
     "data": {
      "text/plain": [
       "array([ 5.,  0.,  2.,  3.,  1.])"
      ]
     },
     "execution_count": 29,
     "metadata": {},
     "output_type": "execute_result"
    }
   ],
   "source": [
    "a[0, :]"
   ]
  },
  {
   "cell_type": "code",
   "execution_count": 33,
   "metadata": {
    "collapsed": false
   },
   "outputs": [
    {
     "data": {
      "text/plain": [
       "array([ 1.,  3.,  2.])"
      ]
     },
     "execution_count": 33,
     "metadata": {},
     "output_type": "execute_result"
    }
   ],
   "source": [
    "a[0, :][-1:1:-1]"
   ]
  },
  {
   "cell_type": "code",
   "execution_count": null,
   "metadata": {
    "collapsed": true
   },
   "outputs": [],
   "source": []
  }
 ],
 "metadata": {
  "kernelspec": {
   "display_name": "Python 3",
   "language": "python",
   "name": "python3"
  },
  "language_info": {
   "codemirror_mode": {
    "name": "ipython",
    "version": 3
   },
   "file_extension": ".py",
   "mimetype": "text/x-python",
   "name": "python",
   "nbconvert_exporter": "python",
   "pygments_lexer": "ipython3",
   "version": "3.5.2"
  }
 },
 "nbformat": 4,
 "nbformat_minor": 0
}
