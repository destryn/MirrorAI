{
 "cells": [
  {
   "cell_type": "code",
   "execution_count": 1,
   "metadata": {
    "collapsed": true
   },
   "outputs": [],
   "source": [
    "import numpy"
   ]
  },
  {
   "cell_type": "code",
   "execution_count": 2,
   "metadata": {
    "collapsed": true
   },
   "outputs": [],
   "source": [
    "def one_row(n, low, high):\n",
    "    \"\"\"Return one row of numbers\n",
    "    \n",
    "    Args:\n",
    "        n (int): length\n",
    "        low (int): lowest possible number\n",
    "        high (int): highest possible number\n",
    "    Returns:\n",
    "        1D numpy array\n",
    "    \"\"\"\n",
    "    return numpy.random.randint(low, high=high, size=n)"
   ]
  },
  {
   "cell_type": "code",
   "execution_count": 4,
   "metadata": {
    "collapsed": false
   },
   "outputs": [],
   "source": [
    "def half_mirror(m, n, low, high):\n",
    "    \"\"\"Return a matrix\n",
    "    \n",
    "    Args:\n",
    "        m (int): number of rows\n",
    "        n (int): number of columns\n",
    "        low (int): lowest possible number\n",
    "        high (int): highest possible number\n",
    "    Returns:\n",
    "        2D numpy array\n",
    "    \"\"\"\n",
    "    return numpy.vstack([one_row(n, low, high) for i in range(m)])\n",
    "    "
   ]
  },
  {
   "cell_type": "code",
   "execution_count": 12,
   "metadata": {
    "collapsed": false
   },
   "outputs": [],
   "source": [
    "def full_mirror(m, n, low, high):\n",
    "    \"\"\"Return a matrix\n",
    "    Returns a symmetric image with 50% probability\n",
    "    \n",
    "    Args:\n",
    "        m (int): half mirror size (excluding the middle row)\n",
    "        n (int): number of columns\n",
    "        low (int): lowest possible number\n",
    "        high (int): highest possible number\n",
    "    Returns:\n",
    "        2D numpy array\n",
    "    \"\"\"\n",
    "    coin = numpy.random.random()\n",
    "    if coin > 0.5:\n",
    "        return numpy.vstack([\n",
    "                half_mirror(m, n, low, high),\n",
    "                numpy.zeros(n),\n",
    "                half_mirror(m, n, low, high)\n",
    "            ])\n",
    "    else:\n",
    "        half = half_mirror(m, n, low, high)\n",
    "        return numpy.vstack([\n",
    "                half,\n",
    "                numpy.zeros(n),\n",
    "                half[::-1, :]\n",
    "            ])"
   ]
  },
  {
   "cell_type": "code",
   "execution_count": 13,
   "metadata": {
    "collapsed": false
   },
   "outputs": [
    {
     "data": {
      "text/plain": [
       "array([[ 6.,  3.,  7.,  8.,  3.],\n",
       "       [ 6.,  3.,  1.,  2.,  4.],\n",
       "       [ 5.,  8.,  7.,  1.,  3.],\n",
       "       [ 6.,  3.,  2.,  5.,  6.],\n",
       "       [ 6.,  3.,  8.,  7.,  3.],\n",
       "       [ 0.,  0.,  0.,  0.,  0.],\n",
       "       [ 6.,  3.,  8.,  7.,  3.],\n",
       "       [ 6.,  3.,  2.,  5.,  6.],\n",
       "       [ 5.,  8.,  7.,  1.,  3.],\n",
       "       [ 6.,  3.,  1.,  2.,  4.],\n",
       "       [ 6.,  3.,  7.,  8.,  3.]])"
      ]
     },
     "execution_count": 13,
     "metadata": {},
     "output_type": "execute_result"
    }
   ],
   "source": [
    "full_mirror(5, 5, 0, 9)"
   ]
  },
  {
   "cell_type": "code",
   "execution_count": 10,
   "metadata": {
    "collapsed": false
   },
   "outputs": [
    {
     "data": {
      "text/plain": [
       "array([[12, 13, 14, 15],\n",
       "       [ 8,  9, 10, 11],\n",
       "       [ 4,  5,  6,  7],\n",
       "       [ 0,  1,  2,  3]])"
      ]
     },
     "execution_count": 10,
     "metadata": {},
     "output_type": "execute_result"
    }
   ],
   "source": [
    "a[::-1, :]"
   ]
  },
  {
   "cell_type": "code",
   "execution_count": null,
   "metadata": {
    "collapsed": true
   },
   "outputs": [],
   "source": []
  }
 ],
 "metadata": {
  "kernelspec": {
   "display_name": "Python 3",
   "language": "python",
   "name": "python3"
  },
  "language_info": {
   "codemirror_mode": {
    "name": "ipython",
    "version": 3
   },
   "file_extension": ".py",
   "mimetype": "text/x-python",
   "name": "python",
   "nbconvert_exporter": "python",
   "pygments_lexer": "ipython3",
   "version": "3.5.2"
  }
 },
 "nbformat": 4,
 "nbformat_minor": 0
}
